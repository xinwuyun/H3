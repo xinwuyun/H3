{
 "cells": [
  {
   "cell_type": "code",
   "execution_count": 6,
   "metadata": {},
   "outputs": [],
   "source": [
    "from train import get_data_loader\n",
    "from transformers import GPT2Tokenizer"
   ]
  },
  {
   "cell_type": "markdown",
   "metadata": {},
   "source": [
    "test"
   ]
  },
  {
   "cell_type": "code",
   "execution_count": 9,
   "metadata": {},
   "outputs": [],
   "source": [
    "tokenizer = GPT2Tokenizer.from_pretrained('gpt2')\n",
    "dataloader = get_data_loader(tokenizer)"
   ]
  },
  {
   "cell_type": "code",
   "execution_count": 11,
   "metadata": {},
   "outputs": [
    {
     "data": {
      "text/plain": [
       "[tensor([[50256, 22089, 24027,  ..., 34159,  2449, 12848],\n",
       "         [50256, 48092, 14740,  ..., 32671,  6132, 19882],\n",
       "         [50256, 42763, 36411,  ..., 24317,  2701, 44159],\n",
       "         ...,\n",
       "         [50256,  1840, 40518,  ...,  6789, 42317,  8308],\n",
       "         [50256, 27245, 16720,  ..., 11220,  3849, 44024],\n",
       "         [50256, 24364, 10401,  ..., 28355, 10586, 34433]]),\n",
       " tensor([[22089, 24027, 24397,  ...,  2449, 12848, 50256],\n",
       "         [48092, 14740,  8033,  ...,  6132, 19882, 50256],\n",
       "         [42763, 36411, 19761,  ...,  2701, 44159, 50256],\n",
       "         ...,\n",
       "         [ 1840, 40518, 20016,  ..., 42317,  8308, 50256],\n",
       "         [27245, 16720, 30486,  ...,  3849, 44024, 50256],\n",
       "         [24364, 10401, 19200,  ..., 10586, 34433, 50256]])]"
      ]
     },
     "execution_count": 11,
     "metadata": {},
     "output_type": "execute_result"
    }
   ],
   "source": []
  },
  {
   "cell_type": "code",
   "execution_count": null,
   "metadata": {},
   "outputs": [],
   "source": []
  }
 ],
 "metadata": {
  "interpreter": {
   "hash": "c6cf200f1a1b4bcd81e785bda5548e50342366c60a42b99499c85db63a235865"
  },
  "kernelspec": {
   "display_name": "H3",
   "language": "python",
   "name": "h3"
  },
  "language_info": {
   "codemirror_mode": {
    "name": "ipython",
    "version": 3
   },
   "file_extension": ".py",
   "mimetype": "text/x-python",
   "name": "python",
   "nbconvert_exporter": "python",
   "pygments_lexer": "ipython3",
   "version": "3.8.17"
  }
 },
 "nbformat": 4,
 "nbformat_minor": 4
}
